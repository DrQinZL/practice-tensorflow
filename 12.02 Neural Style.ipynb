{
 "cells": [
  {
   "cell_type": "code",
   "execution_count": 14,
   "metadata": {
    "collapsed": false
   },
   "outputs": [],
   "source": [
    "%matplotlib inline\n",
    "\n",
    "import tensorflow as tf\n",
    "import numpy as np\n",
    "from sklearn import svm\n",
    "from sklearn.metrics import hinge_loss\n",
    "from sklearn.preprocessing import LabelBinarizer\n",
    "\n",
    "import os\n",
    "import sys\n",
    "import matplotlib.pyplot as plt"
   ]
  },
  {
   "cell_type": "code",
   "execution_count": null,
   "metadata": {
    "collapsed": true
   },
   "outputs": [],
   "source": [
    "sess = tf.InteractiveSession()"
   ]
  },
  {
   "cell_type": "markdown",
   "metadata": {},
   "source": [
    "# Multi-class Support Vector Loss (Hinge Loss)\n",
    "\n",
    "## Hinge loss\n",
    "![](https://upload.wikimedia.org/math/e/5/2/e5268ede02bd68d2f4f82001e833c115.png)\n",
    "![](https://upload.wikimedia.org/wikipedia/commons/thumb/b/b5/Hinge_loss_vs_zero_one_loss.svg/720px-Hinge_loss_vs_zero_one_loss.svg.png)\n",
    "\n",
    "## SVM loss\n",
    "![](https://upload.wikimedia.org/math/e/8/2/e8251c3505995482af3ecde5d84491b7.png)"
   ]
  },
  {
   "cell_type": "code",
   "execution_count": 97,
   "metadata": {
    "collapsed": false
   },
   "outputs": [
    {
     "name": "stdout",
     "output_type": "stream",
     "text": [
      "11.0\n",
      "11.0\n",
      "21.0\n",
      "0.0\n",
      "0.0\n",
      "0.0\n"
     ]
    }
   ],
   "source": [
    "y_ = np.array([[0,0,1],[0,1,0],[0,0,10]])\n",
    "y = [2, 1, 0]\n",
    "print hinge_loss(y, y_, [0, 1, 2])*3\n",
    "\n",
    "y_ = np.array([[0,0,1],[0,1,0],[0,10,10]])\n",
    "y = [2, 1, 0]\n",
    "print hinge_loss(y, y_, [0, 1, 2])*3\n",
    "\n",
    "y_ = np.array([[0,0,1],[0,1,0],[0,10,20]])\n",
    "y = [2, 1, 0]\n",
    "print hinge_loss(y, y_, [0, 1, 2])*3\n",
    "\n",
    "# correct score와 incorrect score의 차이가 lambda=1 보다 크면 (이미 맞았으면)\n",
    "# loss를 항상 0으로 계산\n",
    "y_ = np.array([[0,0,1],[0,1,0],[10, -1, -1]])\n",
    "y = [2, 1, 0]\n",
    "print hinge_loss(y, y_, [0, 1, 2])*3\n",
    "\n",
    "y_ = np.array([[0,0,1],[0,1,0],[10, 5, 5]])\n",
    "y = [2, 1, 0]\n",
    "print hinge_loss(y, y_, [0, 1, 2])*3\n",
    "\n",
    "y_ = np.array([[0,0,1],[0,1,0],[10, 9, 9]])\n",
    "y = [2, 1, 0]\n",
    "print hinge_loss(y, y_, [0, 1, 2])*3\n",
    "\n",
    "# 즉, SVM을 사용할때 truck과 car을 구분하는 classifier는 dog 이미지에 전혀 영향을 안받음\n",
    "# local objective"
   ]
  },
  {
   "cell_type": "markdown",
   "metadata": {},
   "source": [
    "# Softmax cross entropy loss\n",
    "\n",
    "## Softmax \n",
    "![](https://upload.wikimedia.org/math/0/9/9/0991837b7d5a522ebc156f51dadbed0e.png)\n",
    "\n",
    "## cross entropy loss\n",
    "![](https://upload.wikimedia.org/math/8/7/5/875c6f70e04e4a2ddf50a69d54533847.png)"
   ]
  },
  {
   "cell_type": "code",
   "execution_count": 99,
   "metadata": {
    "collapsed": false
   },
   "outputs": [
    {
     "name": "stdout",
     "output_type": "stream",
     "text": [
      "[  3.33780445e-05]\n",
      "[ 0.0133859]\n",
      "[ 0.55144465]\n"
     ]
    }
   ],
   "source": [
    "print tf.nn.softmax_cross_entropy_with_logits([[10., -1., -1.]], [[1., 0., 0.]]).eval()\n",
    "print tf.nn.softmax_cross_entropy_with_logits([[10., 5., 5.]], [[1., 0., 0.]]).eval()\n",
    "print tf.nn.softmax_cross_entropy_with_logits([[10., 9., 9.]], [[1., 0., 0.]]).eval()\n",
    "\n",
    "# 항상 만족하지 못하고 loss를 만들어냄\n",
    "# 따라서 항상 loss는 줄어들 것이다"
   ]
  },
  {
   "cell_type": "code",
   "execution_count": 121,
   "metadata": {
    "collapsed": false
   },
   "outputs": [],
   "source": [
    "tf.nn.sigmoid_cross_entropy_with_logits?"
   ]
  },
  {
   "cell_type": "markdown",
   "metadata": {},
   "source": [
    "# 왜 sigmoid가 softmax보다 mutli label classification에 유리한가?"
   ]
  },
  {
   "cell_type": "code",
   "execution_count": 133,
   "metadata": {
    "collapsed": false
   },
   "outputs": [
    {
     "name": "stdout",
     "output_type": "stream",
     "text": [
      "[[-0.         -0.91190147 -0.        ]]\n",
      "0.911901\n",
      "[ 0.91190147]\n",
      "[[-0.         -0.91190147 -1.31190145]]\n",
      "2.2238\n",
      "[ 2.22380304]\n",
      "########################################\n",
      "[[ 0.69314718  0.71326169  0.69314718]]\n",
      "[[ 0.69314718  0.71326169  0.69314718]]\n",
      "[[ 0.69314718  0.7132616   1.1132617 ]]\n"
     ]
    }
   ],
   "source": [
    "y_ = [[0.4, 0.6, 0.2]]\n",
    "y = [[0., 1., 0.]]\n",
    "\n",
    "print y * tf.log(tf.nn.softmax(y_)).eval()\n",
    "print -tf.reduce_sum(y * tf.log(tf.nn.softmax(y_))).eval()\n",
    "print tf.nn.softmax_cross_entropy_with_logits(y_, y).eval()\n",
    "\n",
    "y_ = [[0.4, 0.6, 0.2]]\n",
    "y = [[0., 1., 1.]]\n",
    "print y * tf.log(tf.nn.softmax(y_)).eval()\n",
    "print -tf.reduce_sum(y * tf.log(tf.nn.softmax(y_))).eval()\n",
    "print tf.nn.softmax_cross_entropy_with_logits(y_, y).eval()\n",
    "\n",
    "print \"########################################\"\n",
    "\n",
    "y_ = [[0.4, 0.6, 0.2]]\n",
    "y = [[0., 1., 0.]]\n",
    "y = tf.constant(y, \"float64\")\n",
    "y_ = tf.constant(y_, \"float64\")\n",
    "\n",
    "tmp = tf.maximum(y, 0) - y * y_ + tf.log(tf.ones_like(y) + tf.exp(-y))\n",
    "print tmp.eval()\n",
    "\n",
    "print tf.nn.sigmoid_cross_entropy_with_logits(y, y_).eval()\n",
    "\n",
    "y_ = [[0.4, 0.6, 0.2]]\n",
    "y = [[0., 1., 1.]]\n",
    "print tf.nn.sigmoid_cross_entropy_with_logits(y, y_).eval()"
   ]
  },
  {
   "cell_type": "markdown",
   "metadata": {},
   "source": [
    "# Gradient Descent"
   ]
  },
  {
   "cell_type": "code",
   "execution_count": 145,
   "metadata": {
    "collapsed": false
   },
   "outputs": [
    {
     "name": "stdout",
     "output_type": "stream",
     "text": [
      "[  1.   2.   3.   4.   5.   6.   7.   8.   9.  10.]\n",
      "[  7.  12.  17.  22.  27.  32.  37.  42.  47.  52.]\n"
     ]
    },
    {
     "name": "stderr",
     "output_type": "stream",
     "text": [
      "/usr/lib/pymodules/python2.7/matplotlib/collections.py:548: FutureWarning: elementwise comparison failed; returning scalar instead, but in the future will perform elementwise comparison\n",
      "  if self._edgecolors == 'face':\n"
     ]
    },
    {
     "data": {
      "image/png": "[encoded data removed]",
      "text/plain": [
       "<matplotlib.figure.Figure at 0x7f6bea662690>"
      ]
     },
     "metadata": {},
     "output_type": "display_data"
    }
   ],
   "source": [
    "from sklearn.metrics import mean_squared_error\n",
    "from mpl_toolkits.mplot3d import Axes3D\n",
    "import matplotlib.pyplot as plt\n",
    "\n",
    "fig = plt.figure()\n",
    "ax = fig.add_subplot(111, projection='3d')\n",
    "\n",
    "x = np.linspace(1,10,10)\n",
    "print x\n",
    "\n",
    "y = 5 *x + 2\n",
    "print y\n",
    "\n",
    "w = np.linspace(3, 7, 100)\n",
    "b = np.linspace(0, 4, 100)\n",
    "\n",
    "for w_ in w:\n",
    "    for b_ in b:\n",
    "        y_ = [w_*x_+b_ for x_ in x]\n",
    "        loss = mean_squared_error(y_, y)\n",
    "        ax.scatter(w_, b_, loss)\n",
    "\n",
    "plt.show()"
   ]
  },
  {
   "cell_type": "markdown",
   "metadata": {},
   "source": [
    "![](https://upload.wikimedia.org/wikipedia/commons/thumb/f/ff/Gradient_descent.svg/350px-Gradient_descent.svg.png)"
   ]
  },
  {
   "cell_type": "markdown",
   "metadata": {},
   "source": [
    "# A Step by Step Backpropagation Example\n",
    "\n",
    "http://mattmazur.com/2015/03/17/a-step-by-step-backpropagation-example/\n",
    "\n",
    "![](http://image.slidesharecdn.com/cnnbp-140313190836-phpapp02/95/backpropagation-in-convolutional-neural-network-8-638.jpg?cb=1446790188)"
   ]
  },
  {
   "cell_type": "code",
   "execution_count": 147,
   "metadata": {
    "collapsed": false
   },
   "outputs": [
    {
     "name": "stdout",
     "output_type": "stream",
     "text": [
      "[[[[ 4.]\n",
      "   [ 4.]\n",
      "   [ 2.]]\n",
      "\n",
      "  [[ 4.]\n",
      "   [ 4.]\n",
      "   [ 2.]]\n",
      "\n",
      "  [[ 2.]\n",
      "   [ 2.]\n",
      "   [ 1.]]]]\n"
     ]
    }
   ],
   "source": [
    "# Convolutional Layer\n",
    "x_data = np.ones([3., 3.]).astype(\"float32\")\n",
    "x_data = np.reshape(x_data, [1, 3, 3, 1])\n",
    "\n",
    "w = np.ones([2,2])\n",
    "w = tf.cast(tf.reshape(w, [2, 2, 1, 1]), \"float\")\n",
    "\n",
    "print tf.nn.conv2d(x_data, w, [1, 1, 1, 1], 'SAME').eval()"
   ]
  },
  {
   "cell_type": "code",
   "execution_count": 146,
   "metadata": {
    "collapsed": false
   },
   "outputs": [
    {
     "name": "stdout",
     "output_type": "stream",
     "text": [
      "[0] : (3, 3, 3, 64)\n",
      "[0b] : (1, 64)\n",
      "[1] : [1] : [[([u'relu'], [u'relu1_1'])]]\n",
      "[2] : (3, 3, 64, 64)\n",
      "[2b] : (1, 64)\n",
      "[3] : [3] : [[([u'relu'], [u'relu1_2'])]]\n",
      "[4] : [4] : [[ ([u'pool1'], [[2.0, 2.0]], [[0.0, 0.0, 0.0, 0.0]], [u'pool'], [u'max'], [[2.0, 2.0]])]]\n",
      "[5] : (3, 3, 64, 128)\n",
      "[5b] : (1, 128)\n",
      "[6] : [6] : [[([u'relu'], [u'relu2_1'])]]\n",
      "[7] : (3, 3, 128, 128)\n",
      "[7b] : (1, 128)\n",
      "[8] : [8] : [[([u'relu'], [u'relu2_2'])]]\n",
      "[9] : [9] : [[ ([u'pool2'], [[2.0, 2.0]], [[0.0, 0.0, 0.0, 0.0]], [u'pool'], [u'max'], [[2.0, 2.0]])]]\n",
      "[10] : (3, 3, 128, 256)\n",
      "[10b] : (1, 256)\n",
      "[11] : [11] : [[([u'relu'], [u'relu3_1'])]]\n",
      "[12] : (3, 3, 256, 256)\n",
      "[12b] : (1, 256)\n",
      "[13] : [13] : [[([u'relu'], [u'relu3_2'])]]\n",
      "[14] : (3, 3, 256, 256)\n",
      "[14b] : (1, 256)\n",
      "[15] : [15] : [[([u'relu'], [u'relu3_3'])]]\n",
      "[16] : (3, 3, 256, 256)\n",
      "[16b] : (1, 256)\n",
      "[17] : [17] : [[([u'relu'], [u'relu3_4'])]]\n",
      "[18] : [18] : [[ ([u'pool3'], [[2.0, 2.0]], [[0.0, 0.0, 0.0, 0.0]], [u'pool'], [u'max'], [[2.0, 2.0]])]]\n",
      "[19] : (3, 3, 256, 512)\n",
      "[19b] : (1, 512)\n",
      "[20] : [20] : [[([u'relu'], [u'relu4_1'])]]\n",
      "[21] : (3, 3, 512, 512)\n",
      "[21b] : (1, 512)\n",
      "[22] : [22] : [[([u'relu'], [u'relu4_2'])]]\n",
      "[23] : (3, 3, 512, 512)\n",
      "[23b] : (1, 512)\n",
      "[24] : [24] : [[([u'relu'], [u'relu4_3'])]]\n",
      "[25] : (3, 3, 512, 512)\n",
      "[25b] : (1, 512)\n",
      "[26] : [26] : [[([u'relu'], [u'relu4_4'])]]\n",
      "[27] : [27] : [[ ([u'pool4'], [[2.0, 2.0]], [[0.0, 0.0, 0.0, 0.0]], [u'pool'], [u'max'], [[2.0, 2.0]])]]\n",
      "[28] : (3, 3, 512, 512)\n",
      "[28b] : (1, 512)\n",
      "[29] : [29] : [[([u'relu'], [u'relu5_1'])]]\n",
      "[30] : (3, 3, 512, 512)\n",
      "[30b] : (1, 512)\n",
      "[31] : [31] : [[([u'relu'], [u'relu5_2'])]]\n",
      "[32] : (3, 3, 512, 512)\n",
      "[32b] : (1, 512)\n",
      "[33] : [33] : [[([u'relu'], [u'relu5_3'])]]\n",
      "[34] : (3, 3, 512, 512)\n",
      "[34b] : (1, 512)\n",
      "[35] : [35] : [[([u'relu'], [u'relu5_4'])]]\n",
      "[36] : [36] : [[ ([u'pool5'], [[2.0, 2.0]], [[0.0, 0.0, 0.0, 0.0]], [u'pool'], [u'max'], [[2.0, 2.0]])]]\n",
      "[37] : (7, 7, 512, 4096)\n",
      "[37b] : (1, 4096)\n",
      "[38] : [38] : [[([u'relu'], [u'relu6'])]]\n",
      "[39] : (1, 1, 4096, 4096)\n",
      "[39b] : (1, 4096)\n",
      "[40] : [40] : [[([u'relu'], [u'relu7'])]]\n",
      "[41] : (1, 1, 4096, 1000)\n",
      "[41b] : (1, 1000)\n",
      "[42] : [42] : [[([u'softmax'], [u'prob'])]]\n"
     ]
    }
   ],
   "source": [
    "import numpy as np\n",
    "import scipy.io as sio\n",
    "import tensorflow as tf\n",
    "import scipy.misc as sm\n",
    "\n",
    "def imread(path):\n",
    "    return sm.imread(path).astype(np.float)\n",
    "\n",
    "mat_path = \"./imagenet-vgg-verydeep-19.mat\"\n",
    "mat = sio.loadmat(mat_path)\n",
    "\n",
    "for idx, layer in enumerate(mat['layers'][0]):\n",
    "    try:\n",
    "        print \"[%s]\" % idx, \":\", layer[0][0][0][0][0].shape\n",
    "        print \"[%sb]\" % idx, \":\", layer[0][0][0][0][1].shape\n",
    "    except:\n",
    "        print \"[%s]\" % idx, \":\", layer"
   ]
  },
  {
   "cell_type": "code",
   "execution_count": 148,
   "metadata": {
    "collapsed": false,
    "scrolled": true
   },
   "outputs": [],
   "source": [
    "content_img = \"./test.png\"\n",
    "style_img = \"./style.jpg\"\n",
    "\n",
    "def conv2d(weight, bias):\n",
    "    def make_layer(input):\n",
    "        conv = tf.nn.conv2d(input, weight, strides=[1,1,1,1], padding='SAME')\n",
    "        return tf.nn.bias_add(conv, bias)\n",
    "    return make_layer\n",
    "\n",
    "def max_pool():\n",
    "    def make_layer(input):\n",
    "        return tf.nn.max_pool(input, ksize=[1,2,2,1], strides=[1,2,2,1], padding='SAME')\n",
    "    return make_layer\n",
    "\n",
    "def preprocess(image, mean_pixel):\n",
    "    return image - mean_pixel\n",
    "\n",
    "def unprocess(image, mean_pixel):\n",
    "    return image + mean_pixel\n",
    "\n",
    "CONTENT_LAYER = 'relu_4_2'"
   ]
  },
  {
   "cell_type": "markdown",
   "metadata": {},
   "source": [
    "![](http://3.bp.blogspot.com/-0-i94WQO1dE/VTUiGLxiEtI/AAAAAAAAAsI/tamhfG_uwb4/s1600/%E6%93%B7%E5%8F%96.PNG)\n",
    "\n",
    "http://cvlab.postech.ac.kr/research/deconvnet\n",
    "\n",
    "![](http://cvlab.postech.ac.kr/research/deconvnet/images/overall.png)"
   ]
  },
  {
   "cell_type": "code",
   "execution_count": 149,
   "metadata": {
    "collapsed": false
   },
   "outputs": [],
   "source": [
    "def build_layer(x):\n",
    "    layer_defs = [\n",
    "        'conv_1_1', 'relu_1_1','conv1_2', 'relu_1_2', 'pool_1',\n",
    "        'conv_2_1', 'relu_2_1','conv2_2', 'relu_2_2', 'pool_2',\n",
    "\n",
    "        'conv_3_1', 'relu_3_1','conv3_2', 'relu_3_2',\n",
    "        'conv_3_3', 'relu_3_3', 'conv3_4', 'relu_3_4', 'pool_3',\n",
    "        'conv_4_1', 'relu_4_1','conv4_2', 'relu_4_2',\n",
    "        'conv_4_3', 'relu_4_3', 'conv4_4', 'relu_4_4', 'pool_4',\n",
    "\n",
    "        'conv_5_1', 'relu_5_1','conv4_2', 'relu_5_2',\n",
    "        'conv_5_3', 'relu_5_3', 'conv4_4', 'relu_5_4'\n",
    "    ]\n",
    "\n",
    "    mean = mat['normalization'][0][0][0] # (224, 224, 3)\n",
    "    mean_pixel = np.mean(mean, axis=(0,1))\n",
    "\n",
    "    # mat['layers'] : [1 x 43]\n",
    "    constants = mat['layers'][0]\n",
    "\n",
    "    layers = []\n",
    "    for idx, layer_def in enumerate(layer_defs):\n",
    "        if 'conv' in layer_def:\n",
    "            w = constants[idx][0][0][0][0][0]\n",
    "            w = np.transpose(w, (1, 0, 2, 3)) # [3 x 3 x 3 x 64] : 3x3 conv, 3 input, 64 output channels\n",
    "            b = constants[idx][0][0][0][0][1] # [1 x 64] -> [64]\n",
    "            b = b.reshape(-1)                 # [64]\n",
    "            ops = conv2d(w, b)\n",
    "        elif 'relu' in layer_def:\n",
    "            ops = tf.nn.relu\n",
    "        elif 'pool' in layer_def:\n",
    "            ops = max_pool()\n",
    "        else:\n",
    "            raise \"Wrong layer def : %s\" % layer_def\n",
    "\n",
    "        if not layers:\n",
    "            layers.append(ops(x))\n",
    "        else:\n",
    "            layers.append(ops(layers[-1]))\n",
    "\n",
    "    layer_dict = dict(zip(layer_defs, layers))\n",
    "\n",
    "    return layer_dict, mean_pixel"
   ]
  },
  {
   "cell_type": "code",
   "execution_count": 150,
   "metadata": {
    "collapsed": true
   },
   "outputs": [],
   "source": [
    "content_features = {}\n",
    "\n",
    "################\n",
    "# content img\n",
    "################\n",
    "\n",
    "content = imread(content_img)\n",
    "shape = (1,) + content.shape\n",
    "x = tf.placeholder('float', shape=shape)\n",
    "\n",
    "layer_dict, mean_pixel = build_layer(x)\n",
    "\n",
    "content_pre = np.array([preprocess(content, mean_pixel)]) # [1 x 460 x 460 x 3]\n",
    "content_features[CONTENT_LAYER] = layer_dict[CONTENT_LAYER].eval(feed_dict={x: content_pre})"
   ]
  },
  {
   "cell_type": "code",
   "execution_count": 151,
   "metadata": {
    "collapsed": false
   },
   "outputs": [
    {
     "ename": "NameError",
     "evalue": "name 'STYLE_LAYERS' is not defined",
     "output_type": "error",
     "traceback": [
      "\u001b[1;31m---------------------------------------------------------------------------\u001b[0m",
      "\u001b[1;31mNameError\u001b[0m                                 Traceback (most recent call last)",
      "\u001b[1;32m<ipython-input-151-e74db4721198>\u001b[0m in \u001b[0;36m<module>\u001b[1;34m()\u001b[0m\n\u001b[0;32m     11\u001b[0m \u001b[0mstyle_pre\u001b[0m \u001b[1;33m=\u001b[0m \u001b[0mnp\u001b[0m\u001b[1;33m.\u001b[0m\u001b[0marray\u001b[0m\u001b[1;33m(\u001b[0m\u001b[1;33m[\u001b[0m\u001b[0mpreprocess\u001b[0m\u001b[1;33m(\u001b[0m\u001b[0mstyle\u001b[0m\u001b[1;33m,\u001b[0m \u001b[0mmean_pixel\u001b[0m\u001b[1;33m)\u001b[0m\u001b[1;33m]\u001b[0m\u001b[1;33m)\u001b[0m \u001b[1;31m# [1 x 460 x 460 x 3]\u001b[0m\u001b[1;33m\u001b[0m\u001b[0m\n\u001b[0;32m     12\u001b[0m \u001b[1;33m\u001b[0m\u001b[0m\n\u001b[1;32m---> 13\u001b[1;33m \u001b[1;32mfor\u001b[0m \u001b[0mlayer\u001b[0m \u001b[1;32min\u001b[0m \u001b[0mSTYLE_LAYERS\u001b[0m\u001b[1;33m:\u001b[0m\u001b[1;33m\u001b[0m\u001b[0m\n\u001b[0m\u001b[0;32m     14\u001b[0m     \u001b[0mcontent_features\u001b[0m\u001b[1;33m[\u001b[0m\u001b[0mlayer\u001b[0m\u001b[1;33m]\u001b[0m \u001b[1;33m=\u001b[0m \u001b[0mlayer_dict\u001b[0m\u001b[1;33m[\u001b[0m\u001b[0mlayer\u001b[0m\u001b[1;33m]\u001b[0m\u001b[1;33m.\u001b[0m\u001b[0meval\u001b[0m\u001b[1;33m(\u001b[0m\u001b[0mfeed_dict\u001b[0m\u001b[1;33m=\u001b[0m\u001b[1;33m{\u001b[0m\u001b[0mx\u001b[0m\u001b[1;33m:\u001b[0m \u001b[0mcontent_pre\u001b[0m\u001b[1;33m}\u001b[0m\u001b[1;33m)\u001b[0m\u001b[1;33m\u001b[0m\u001b[0m\n\u001b[0;32m     15\u001b[0m \u001b[1;33m\u001b[0m\u001b[0m\n",
      "\u001b[1;31mNameError\u001b[0m: name 'STYLE_LAYERS' is not defined"
     ]
    }
   ],
   "source": [
    "################\n",
    "# style img\n",
    "################\n",
    "\n",
    "style = imread(style_img)\n",
    "shape = (1,) + content.shape\n",
    "x = tf.placeholder('float', shape=shape)\n",
    "\n",
    "layer_dict, mean_pixel = build_layer(x)\n",
    "\n",
    "style_pre = np.array([preprocess(style, mean_pixel)]) # [1 x 460 x 460 x 3]\n",
    "\n",
    "for layer in STYLE_LAYERS:\n",
    "    content_features[layer] = layer_dict[layer].eval(feed_dict={x: content_pre})\n",
    "\n",
    "x = tf.placeholder('float', shape=shape)"
   ]
  },
  {
   "cell_type": "code",
   "execution_count": null,
   "metadata": {
    "collapsed": true
   },
   "outputs": [],
   "source": []
  }
 ],
 "metadata": {
  "kernelspec": {
   "display_name": "Python 2",
   "language": "python",
   "name": "python2"
  },
  "language_info": {
   "codemirror_mode": {
    "name": "ipython",
    "version": 2
   },
   "file_extension": ".py",
   "mimetype": "text/x-python",
   "name": "python",
   "nbconvert_exporter": "python",
   "pygments_lexer": "ipython2",
   "version": "2.7.6"
  }
 },
 "nbformat": 4,
 "nbformat_minor": 0
}
