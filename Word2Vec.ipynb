{
 "cells": [
  {
   "cell_type": "code",
   "execution_count": 1,
   "metadata": {
    "collapsed": false
   },
   "outputs": [],
   "source": [
    "import tensorflow as tf\n",
    "import numpy as np\n",
    "\n",
    "from embedding import gen_word2vec as word2vec"
   ]
  },
  {
   "cell_type": "code",
   "execution_count": 2,
   "metadata": {
    "collapsed": false
   },
   "outputs": [],
   "source": [
    "sess = tf.InteractiveSession()"
   ]
  },
  {
   "cell_type": "code",
   "execution_count": 3,
   "metadata": {
    "collapsed": false
   },
   "outputs": [
    {
     "name": "stdout",
     "output_type": "stream",
     "text": [
      "1\n",
      "2\n",
      "3\n"
     ]
    }
   ],
   "source": [
    "global_step = tf.Variable(0, name=\"global_step\")\n",
    "inc = global_step.assign_add(1)\n",
    "\n",
    "init = tf.initialize_all_variables()\n",
    "sess.run(init)\n",
    "\n",
    "print inc.eval()\n",
    "print inc.eval()\n",
    "print inc.eval()"
   ]
  },
  {
   "cell_type": "code",
   "execution_count": 18,
   "metadata": {
    "collapsed": false
   },
   "outputs": [],
   "source": [
    "embed_dim = 200\n",
    "num_neg_samples = 100\n",
    "\n",
    "epochs_to_train = 15\n",
    "learning_rate = 0.025\n",
    "batch_size = 16\n",
    "window_size = 5\n",
    "min_count = 5\n",
    "subsample = 1e-3\n",
    "\n",
    "(words, counts, words_per_epoch,current_epoch, total_words_processed, x, y) = \\\n",
    "    word2vec.skipgram(\n",
    "        filename = 'text8',\n",
    "        batch_size = batch_size,\n",
    "        window_size = window_size,\n",
    "        min_count = min_count,\n",
    "        subsample = subsample\n",
    "    )\n",
    "\n",
    "(vocab_words, vocab_counts, words_per_epoch) = sess.run([words, counts, words_per_epoch])"
   ]
  },
  {
   "cell_type": "code",
   "execution_count": 19,
   "metadata": {
    "collapsed": false
   },
   "outputs": [
    {
     "name": "stdout",
     "output_type": "stream",
     "text": [
      "('Vocab size: ', 71290, ' + UNK')\n",
      "('Words per epoch: ', 17005207)\n"
     ]
    }
   ],
   "source": [
    "vocab_size = len(vocab_words)\n",
    "\n",
    "id2word = vocab_words\n",
    "word2id = {}\n",
    "\n",
    "for i, w in enumerate(id2word):\n",
    "    word2id[w] = i\n",
    "\n",
    "print(\"Vocab size: \", vocab_size - 1, \" + UNK\")\n",
    "print(\"Words per epoch: \", words_per_epoch)"
   ]
  },
  {
   "cell_type": "code",
   "execution_count": 25,
   "metadata": {
    "collapsed": false
   },
   "outputs": [
    {
     "name": "stdout",
     "output_type": "stream",
     "text": [
      "[455 455 455 455 455 455 455 455  20  20  20  20  20  20  20  20]\n",
      "[   7 1325  105  455   20 2733  363    7 3678    1   20   59  363    7   59\n",
      " 2733]\n",
      "==============================\n",
      "[[1, 2, 1], [2, 3, 1]]\n",
      "10\n",
      "[3 5 2]\n",
      "[4 6]\n",
      "==============================\n",
      "[[ 4.  4.]\n",
      " [ 4.  4.]]\n"
     ]
    }
   ],
   "source": [
    "print x.eval()\n",
    "print y.eval()\n",
    "print \"=\"*30\n",
    "\n",
    "tmp = [[1,2,1],[2,3,1]]\n",
    "\n",
    "print tmp\n",
    "print tf.reduce_sum(tmp).eval()\n",
    "print tf.reduce_sum(tmp, 0).eval()\n",
    "print tf.reduce_sum(tmp, 1).eval()\n",
    "print \"=\"*30\n",
    "\n",
    "a = np.ones([2,4])\n",
    "b = np.ones([2,4])\n",
    "print tf.matmul(a, b, transpose_b=True).eval()"
   ]
  },
  {
   "cell_type": "code",
   "execution_count": 7,
   "metadata": {
    "collapsed": false
   },
   "outputs": [
    {
     "ename": "SyntaxError",
     "evalue": "invalid syntax (<ipython-input-7-726cfa630067>, line 40)",
     "output_type": "error",
     "traceback": [
      "\u001b[1;36m  File \u001b[1;32m\"<ipython-input-7-726cfa630067>\"\u001b[1;36m, line \u001b[1;32m40\u001b[0m\n\u001b[1;33m    train =\u001b[0m\n\u001b[1;37m            ^\u001b[0m\n\u001b[1;31mSyntaxError\u001b[0m\u001b[1;31m:\u001b[0m invalid syntax\n"
     ]
    }
   ],
   "source": [
    "# w_in : vocab_size x embed_dim\n",
    "w_embed = tf.Variable(\n",
    "    tf.random_uniform(\n",
    "        [vocab_size, embed_dim],\n",
    "        -0.5 / embed_dim,\n",
    "        +0.5 / embed_dim\n",
    "    ),\n",
    "    name = \"w_in\"\n",
    ")\n",
    "\n",
    "# w_out : vocab_size x embed_dim\n",
    "w = tf.Variable(tf.zeros([vocab_size, embed_dim]), name=\"w\")\n",
    "b = tf.Variable(tf.zeros([vocab_size]), name=\"b\")\n",
    "\n",
    "labels_matrix = tf.reshape(tf.cast(y, dtype=tf.int64), [batch_size, 1])\n",
    "\n",
    "# Samples a set of classes using the provided (fixed) base distribution.\n",
    "neg_sampled_ids, _, _ = (tf.nn.fixed_unigram_candidate_sampler(\n",
    "    true_classes = labels_matrix,\n",
    "    num_true = 1,\n",
    "    num_sampled = num_neg_samples,\n",
    "    unique = True,\n",
    "    range_max = vocab_size,\n",
    "    distortion = 0.75,\n",
    "    unigrams = vocab_counts.tolist()))\n",
    "\n",
    "# batch_size x embed_dim\n",
    "x_emb = tf.nn.embedding_lookup(w_embed, x)\n",
    "\n",
    "# batch_size x embed_dim\n",
    "true_w = tf.nn.embedding_lookup(w, labels)\n",
    "\n",
    "# batch_size x 1\n",
    "true_b = tf.nn.embedding_lookup(b, labels)\n",
    "\n",
    "# batch_size x embed_dim * batch_size_size x embed_dim = batch_size_size x embed_dim\n",
    "# tf.reduce_sum(x, 1) : row끼리 더함\n",
    "true_y_ = tf.reduce_sum(tf.mul(x_emb, true_w), 1) + true_b\n",
    "\n",
    "\n",
    "########################\n",
    "# For negative samples\n",
    "########################\n",
    "\n",
    "# num_neg_samples x embed_dim\n",
    "neg_w = tf.nn.embedding_lookup(w, neg_sampled_ids)\n",
    "\n",
    "# num_neg_samples x 1\n",
    "neg_b = tf.nn.embedding_lookup(b, neg_sampled_ids)\n",
    "neg_b = tf.reshape(neg_b, [num_neg_samples])\n",
    "\n",
    "# [batch_size x num_neg_samples] + [num_neg_samples] <- 각 row 마다 neg_b 더함\n",
    "neg_y_ = tf.matmul(x_emb, neg_w, transpose_b=True) + neg_b\n",
    "\n",
    "\n",
    "###############################\n",
    "# Negative Cross Entropy Loss\n",
    "###############################\n",
    "\n",
    "# Measures the probability error in discrete classification tasks in which each\n",
    "# class is independent and not mutually exclusive. For instance, one could\n",
    "# perform multilabel classification where a picture can contain both an elephant\n",
    "# and a dog at the same time.\n",
    "true_loss = tf.nn.sigmoid_cross_entropy_with_logits(true_y_, tf.ones_like(true_y_))\n",
    "\n",
    "global_step = tf.Variable(0, name=\"global_step\")\n",
    "\n",
    "words_to_train = float(words_per_epoch * epochs_to_train)\n",
    "\n",
    "lr = learning_rate * tf.maximum(\n",
    "    0.001,\n",
    "    1.0 - tf.cast(total_words_processed, tf.float32) / words_to_train)\n",
    "\n",
    "inc = global_step.assign_add(1)\n",
    "\n",
    "with tf.control_dependencies([inc]):\n",
    "    train = "
   ]
  },
  {
   "cell_type": "code",
   "execution_count": 27,
   "metadata": {
    "collapsed": true
   },
   "outputs": [],
   "source": [
    "tf.nn.sigmoid_cross_entropy_with_logits?"
   ]
  },
  {
   "cell_type": "code",
   "execution_count": null,
   "metadata": {
    "collapsed": false
   },
   "outputs": [],
   "source": [
    "word2vec.neg_train"
   ]
  },
  {
   "cell_type": "code",
   "execution_count": null,
   "metadata": {
    "collapsed": true
   },
   "outputs": [],
   "source": [
    "tf.nn.fixed_unigram_candidate_sampler?"
   ]
  },
  {
   "cell_type": "code",
   "execution_count": null,
   "metadata": {
    "collapsed": true
   },
   "outputs": [],
   "source": []
  }
 ],
 "metadata": {
  "kernelspec": {
   "display_name": "Python 2",
   "language": "python",
   "name": "python2"
  },
  "language_info": {
   "codemirror_mode": {
    "name": "ipython",
    "version": 2
   },
   "file_extension": ".py",
   "mimetype": "text/x-python",
   "name": "python",
   "nbconvert_exporter": "python",
   "pygments_lexer": "ipython2",
   "version": "2.7.6"
  }
 },
 "nbformat": 4,
 "nbformat_minor": 0
}
