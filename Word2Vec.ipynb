{
 "cells": [
  {
   "cell_type": "code",
   "execution_count": 28,
   "metadata": {
    "collapsed": false
   },
   "outputs": [],
   "source": [
    "from __future__ import absolute_import\n",
    "from __future__ import division\n",
    "from __future__ import print_function\n",
    "\n",
    "import os\n",
    "import sys\n",
    "import threading\n",
    "import time\n",
    "\n",
    "import tensorflow as tf\n",
    "import numpy as np\n",
    "\n",
    "from embedding import gen_word2vec as word2vec"
   ]
  },
  {
   "cell_type": "code",
   "execution_count": 2,
   "metadata": {
    "collapsed": false
   },
   "outputs": [],
   "source": [
    "sess = tf.InteractiveSession()"
   ]
  },
  {
   "cell_type": "code",
   "execution_count": 4,
   "metadata": {
    "collapsed": false
   },
   "outputs": [
    {
     "name": "stdout",
     "output_type": "stream",
     "text": [
      "[[1, 2, 1], [2, 3, 1]]\n",
      "10\n",
      "[3 5 2]\n",
      "[4 6]\n",
      "==============================\n",
      "[[ 4.  4.]\n",
      " [ 4.  4.]]\n"
     ]
    }
   ],
   "source": [
    "# practice tf.reduce_sum, tf.matmul\n",
    "\n",
    "tmp = [[1,2,1],[2,3,1]]\n",
    "\n",
    "print tmp\n",
    "print tf.reduce_sum(tmp).eval()\n",
    "print tf.reduce_sum(tmp, 0).eval()\n",
    "print tf.reduce_sum(tmp, 1).eval()\n",
    "print \"=\"*30\n",
    "\n",
    "a = np.ones([2,4])\n",
    "b = np.ones([2,4])\n",
    "print tf.matmul(a, b, transpose_b=True).eval()"
   ]
  },
  {
   "cell_type": "code",
   "execution_count": null,
   "metadata": {
    "collapsed": false
   },
   "outputs": [],
   "source": [
    "embed_dim = 200\n",
    "num_neg_samples = 100\n",
    "\n",
    "epochs_to_train = 15\n",
    "learning_rate = 0.025\n",
    "batch_size = 16\n",
    "window_size = 5\n",
    "min_count = 5\n",
    "subsample = 1e-3\n",
    "\n",
    "# words : list of words including 'UNK'\n",
    "# counts : list of counts of words\n",
    "# words_per_epoch\n",
    "# current_epoch : start from 0\n",
    "(words, counts, words_per_epoch, current_epoch, total_words_processed, x, y) = \\\n",
    "    word2vec.skipgram(\n",
    "        filename = 'text8',\n",
    "        batch_size = batch_size,\n",
    "        window_size = window_size,\n",
    "        min_count = min_count,\n",
    "        subsample = subsample\n",
    "    )\n",
    "\n",
    "(vocab_words, vocab_counts, words_per_epoch) = sess.run([words, counts, words_per_epoch])"
   ]
  },
  {
   "cell_type": "code",
   "execution_count": 36,
   "metadata": {
    "collapsed": false
   },
   "outputs": [
    {
     "name": "stdout",
     "output_type": "stream",
     "text": [
      "Vocab size:  71290  + UNK\n",
      "Words per epoch:  17005207\n"
     ]
    }
   ],
   "source": [
    "vocab_size = len(vocab_words)\n",
    "\n",
    "id2word = vocab_words\n",
    "word2id = {}\n",
    "\n",
    "for i, w in enumerate(id2word):\n",
    "    word2id[w] = i\n",
    "\n",
    "print(\"Vocab size: \", vocab_size - 1, \" + UNK\")\n",
    "print(\"Words per epoch: \", words_per_epoch)\n",
    "\n",
    "global_step = tf.Variable(0, name=\"global_step\")"
   ]
  },
  {
   "cell_type": "code",
   "execution_count": 39,
   "metadata": {
    "collapsed": false
   },
   "outputs": [
    {
     "name": "stdout",
     "output_type": "stream",
     "text": [
      "[10770 10770 10770 10770 10770 10770 10770 10770   215   215   215   215\n",
      "   215   215   215   215]\n",
      "[    5     6 10770   215     7   105   455    20    59  2733   215     7\n",
      "  1325   455    20    59]\n"
     ]
    }
   ],
   "source": [
    "print(x.eval())\n",
    "print(y.eval())"
   ]
  },
  {
   "cell_type": "code",
   "execution_count": 40,
   "metadata": {
    "collapsed": false
   },
   "outputs": [],
   "source": [
    "# w_in : vocab_size x embed_dim\n",
    "w_embed = tf.Variable(\n",
    "    tf.random_uniform(\n",
    "        [vocab_size, embed_dim],\n",
    "        -0.5 / embed_dim,\n",
    "        +0.5 / embed_dim\n",
    "    ),\n",
    "    name = \"w_in\"\n",
    ")\n",
    "\n",
    "# w_out : vocab_size x embed_dim\n",
    "w = tf.Variable(tf.zeros([vocab_size, embed_dim]), name=\"w\")\n",
    "b = tf.Variable(tf.zeros([vocab_size]), name=\"b\")\n",
    "\n",
    "# Cast [batch_size] -> [batch_size x 1]\n",
    "labels_matrix = tf.reshape(tf.cast(y, dtype=tf.int64), [batch_size, 1])\n",
    "\n",
    "# Samples a set of classes using the provided (fixed) base distribution.\n",
    "neg_sampled_ids, _, _ = (tf.nn.fixed_unigram_candidate_sampler(\n",
    "    true_classes = labels_matrix,\n",
    "    num_true = 1,\n",
    "    num_sampled = num_neg_samples,\n",
    "    unique = True,\n",
    "    range_max = vocab_size,\n",
    "    distortion = 0.75,\n",
    "    unigrams = vocab_counts.tolist()))\n",
    "\n",
    "# batch_size x embed_dim\n",
    "x_emb = tf.nn.embedding_lookup(w_embed, x)\n",
    "\n",
    "# batch_size x embed_dim\n",
    "true_w = tf.nn.embedding_lookup(w, y)\n",
    "\n",
    "# batch_size x 1\n",
    "true_b = tf.nn.embedding_lookup(b, y)\n",
    "\n",
    "# element-wise multiplication\n",
    "# tf.reduced_sum([batch_size x embed_dim] * [batch_size x embed_dim]) + [batch_size x 1]\n",
    "# tf.reduce_sum(x, 1) : row끼리 더함\n",
    "true_y_ = tf.reduce_sum(tf.mul(x_emb, true_w), 1) + true_b\n",
    "\n",
    "\n",
    "########################\n",
    "# For negative samples\n",
    "########################\n",
    "\n",
    "# num_neg_samples x embed_dim\n",
    "neg_w = tf.nn.embedding_lookup(w, neg_sampled_ids)\n",
    "\n",
    "# num_neg_samples x 1\n",
    "neg_b = tf.nn.embedding_lookup(b, neg_sampled_ids)\n",
    "neg_b = tf.reshape(neg_b, [num_neg_samples])\n",
    "\n",
    "# matrix multiplication\n",
    "# [batch_size x embed_dim] x [embed_dim x num_neg_samples] + [num_neg_samples] <- 각 row 마다 neg_b 더함\n",
    "# neg_y_ = tf.reduce_sum(tf.mul(x_emb, ))\n",
    "neg_y_ = tf.matmul(x_emb, neg_w, transpose_b=True) + neg_b\n",
    "\n",
    "# neg_y_ 계산이 이상해 보이지만 true_y_ 구할 때 처럼 element-wise multiplication해서 neg_b 더하는것\n",
    "\n",
    "#####################################\n",
    "# Negative Cross Entropy (NCE) Loss\n",
    "#####################################\n",
    "\n",
    "# Measures the probability error in discrete classification tasks in which each\n",
    "# class is independent and not mutually exclusive. For instance, one could\n",
    "# perform multilabel classification where a picture can contain both an elephant\n",
    "# and a dog at the same time.\n",
    "true_loss = tf.nn.sigmoid_cross_entropy_with_logits(true_y_, tf.ones_like(true_y_))\n",
    "neg_loss = tf.nn.sigmoid_cross_entropy_with_logits(neg_y_, tf.zeros_like(neg_y_))\n",
    "\n",
    "loss = (tf.reduce_sum(true_loss) + tf.reduce_sum(neg_loss)) / batch_size\n",
    "\n",
    "\n",
    "#####################################\n",
    "# Optimization\n",
    "#####################################\n",
    "\n",
    "global_step = tf.Variable(0, name=\"global_step\")\n",
    "\n",
    "words_to_train = float(words_per_epoch * epochs_to_train)\n",
    "\n",
    "lr = learning_rate * tf.maximum(\n",
    "    0.001,\n",
    "    1.0 - tf.cast(total_words_processed, tf.float32) / words_to_train\n",
    ")\n",
    "\n",
    "optimizer = tf.train.GradientDescentOptimizer(lr)\n",
    "train = optimizer.minimize(loss,\n",
    "                           global_step = global_step,\n",
    "                           gate_gradients=optimizer.GATE_NONE)"
   ]
  },
  {
   "cell_type": "code",
   "execution_count": null,
   "metadata": {
    "collapsed": false
   },
   "outputs": [],
   "source": [
    "concurrent_steps = 12\n",
    "statistics_interval = 5\n",
    "checkpoint_interval = 600\n",
    "\n",
    "init = tf.initialize_all_variables()\n",
    "sess.run(init)\n",
    "saver = tf.train.Saver()\n",
    "\n",
    "with open(os.path.join(\"./\", \"vocab.txt\"), \"w\") as f:\n",
    "    for i in xrange(vocab_size):\n",
    "        f.write(vocab_words[i] + \" \" + str(vocab_counts[i]) + \"\\n\")\n",
    "\n",
    "def train_thread_body():\n",
    "    global sess, train, current_epoch\n",
    "    initial_epoch = sess.run([current_epoch])\n",
    "    \n",
    "    while True:\n",
    "        _, epoch = sess.run([train, current_epoch])\n",
    "        if epoch != initial_epoch:\n",
    "            break\n",
    "\n",
    "###############\n",
    "# Train\n",
    "###############\n",
    "\n",
    "for _ in xrange(epochs_to_train):\n",
    "    initial_epoch, initial_words = sess.run([current_epoch, words])\n",
    "    \n",
    "    summary_op = tf.merge_all_summaries()\n",
    "    summary_writer = tf.train.SummaryWriter(\"./\",\n",
    "                                            graph_def=sess.graph_def)\n",
    "    \n",
    "    workers = []\n",
    "    for _ in xrange(concurrent_steps):\n",
    "        t = threading.Thread(target=train_thread_body())\n",
    "        t.start()\n",
    "        workers.append(t)\n",
    "        \n",
    "    last_words, last_tme, last_summary_time = initial_words, time.time(), 0\n",
    "    last_checkpoint_time = 0\n",
    "    \n",
    "    while True:\n",
    "        # Print statistics every n seconds.\n",
    "        time.sleep(statistics_interval)\n",
    "        (epoch, step, loss, words, lr) = sess.run(\n",
    "              [current_epoch, global_step, loss, words, lr])\n",
    "        \n",
    "        now = time.time()\n",
    "        last_words, last_time, rate = words,now, (words - last_words) / (now - last_time)\n",
    "        print(\"Epoch %4d Step %8d: lr = %5.3f loss = %6.2f words/sec = %8.0f\\r\" %\n",
    "            (epoch, step, lr, loss, rate), end=\"\")\n",
    "        sys.stdout.flush()\n",
    "        \n",
    "        if now - last_checkpoint_time > checkpoint_interval:\n",
    "            saver.save(sess, \"./\" + \"model\", global_step = step.astype(int))\n",
    "            last_checkpoint_time = now\n",
    "            \n",
    "        if epoch != initial_epoch:\n",
    "            break\n",
    "            \n",
    "    for t in workers:\n",
    "        t.join()\n",
    "\n",
    "# global_step : to distinguish step from other saved models\n",
    "saver.save(sess, os.path.join(\"./\", \"model.ckpt\"), global_step=model.global_step)"
   ]
  },
  {
   "cell_type": "code",
   "execution_count": null,
   "metadata": {
    "collapsed": true
   },
   "outputs": [],
   "source": [
    "########################\n",
    "# Graph for evaluation\n",
    "########################\n",
    "\n",
    "analogy_a = tf.placeholder(dtype=tf.int32) # [N]\n",
    "analogy_b = tf.placeholder(dtype=tf.int32) # [N]\n",
    "analogy_c = tf.placeholder(dtype=tf.int32) # [N]\n",
    "\n",
    "normalized_w_embed = tf.nn.l2_normalize(w_embed, 1)\n",
    "\n",
    "# [N x embed_dim]\n",
    "a_w_embed = tf.gather(normalized_w_embed, analogy_a)\n",
    "b_w_embed = tf.gather(normalized_w_embed, analogy_b)\n",
    "c_w_embed = tf.gather(normalized_w_embed, analogy_c)\n",
    "\n",
    "target = c_w_embed + (b_w_embed - a_w_embed)\n",
    "\n",
    "# Compute cosine distance between each pair of target and vocab.\n",
    "# [N x embed_dim] * [embed_dim x vocab_size]  = [N x vocab_size]\n",
    "dist = tf.matmul(target, normalized_embed, transpose_b = True)\n",
    "\n",
    "_, pred_idx = tf.nn.top_k(dist, 4)\n",
    "\n",
    "nearby_word = tf.placeholder(dtype=tf.int32)\n",
    "\n",
    "# [N x embed_dim]\n",
    "nearby_w_embed = tf.gather(normalized_w_embed, nearby_word)\n",
    "\n",
    "nearby_dist = tf.matmul(nearby_emb, nemb, transpose_b=True)"
   ]
  },
  {
   "cell_type": "code",
   "execution_count": null,
   "metadata": {
    "collapsed": true
   },
   "outputs": [],
   "source": [
    "tf.nn.l2_normalize?"
   ]
  },
  {
   "cell_type": "code",
   "execution_count": null,
   "metadata": {
    "collapsed": true
   },
   "outputs": [],
   "source": [
    "tf.gather?"
   ]
  },
  {
   "cell_type": "code",
   "execution_count": null,
   "metadata": {
    "collapsed": true
   },
   "outputs": [],
   "source": []
  }
 ],
 "metadata": {
  "kernelspec": {
   "display_name": "Python 2",
   "language": "python",
   "name": "python2"
  },
  "language_info": {
   "codemirror_mode": {
    "name": "ipython",
    "version": 2
   },
   "file_extension": ".py",
   "mimetype": "text/x-python",
   "name": "python",
   "nbconvert_exporter": "python",
   "pygments_lexer": "ipython2",
   "version": "2.7.6"
  }
 },
 "nbformat": 4,
 "nbformat_minor": 0
}
