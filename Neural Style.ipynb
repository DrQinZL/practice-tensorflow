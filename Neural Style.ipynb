{
 "cells": [
  {
   "cell_type": "code",
   "execution_count": 1,
   "metadata": {
    "collapsed": true
   },
   "outputs": [],
   "source": [
    "%matplotlib inline\n",
    "\n",
    "import tensorflow as tf\n",
    "import numpy as np\n",
    "\n",
    "import os\n",
    "import sys\n",
    "\n",
    "sess = tf.InteractiveSession()"
   ]
  },
  {
   "cell_type": "code",
   "execution_count": 3,
   "metadata": {
    "collapsed": true
   },
   "outputs": [],
   "source": [
    "tf.nn.conv2d?"
   ]
  },
  {
   "cell_type": "code",
   "execution_count": 39,
   "metadata": {
    "collapsed": true
   },
   "outputs": [],
   "source": [
    "# VGG Model\n",
    "\n",
    "def conv_layer(weight, bias):\n",
    "    def _make_layer(input):\n",
    "        conv = tf.nn.conv2d(input, tf.constant(weights), strides=[1, 1, 1, 1],\n",
    "                            padding='SAME')\n",
    "        return tf.nn.bias_add(conv, bias)\n",
    "    return _make_layer\n",
    "\n",
    "def conv_layer(weights, bias):\n",
    "    def _make_layer(input):\n",
    "        conv = tf.nn.conv2d(input, tf.constant(weights), strides=[1, 1, 1, 1],\n",
    "                            padding='SAME')\n",
    "        return tf.nn.bias_add(conv, bias)\n",
    "    return _make_layer"
   ]
  },
  {
   "cell_type": "code",
   "execution_count": 5,
   "metadata": {
    "collapsed": false
   },
   "outputs": [
    {
     "name": "stdout",
     "output_type": "stream",
     "text": [
      "[[ 1.  1.  1.]\n",
      " [ 1.  1.  1.]\n",
      " [ 1.  1.  1.]]\n",
      "====================\n",
      "[[ 1.  1.]\n",
      " [ 1.  1.]]\n",
      "====================\n",
      "[[[[ 4.]\n",
      "   [ 4.]\n",
      "   [ 2.]]\n",
      "\n",
      "  [[ 4.]\n",
      "   [ 4.]\n",
      "   [ 2.]]\n",
      "\n",
      "  [[ 2.]\n",
      "   [ 2.]\n",
      "   [ 1.]]]]\n",
      "====================\n"
     ]
    }
   ],
   "source": [
    "x_data = np.ones([3., 3.]).astype(\"float32\")\n",
    "print x_data\n",
    "print \"=\"*20\n",
    "x_data = np.reshape(x_data, [1, 3, 3, 1])\n",
    "\n",
    "w = np.ones([2,2])\n",
    "print w\n",
    "print \"=\"*20\n",
    "w = tf.cast(tf.reshape(w, [2, 2, 1, 1]), \"float\")\n",
    "# print w.eval()\n",
    "\n",
    "print tf.nn.conv2d(x_data, w, [1, 1, 1, 1], 'SAME').eval()\n",
    "print \"=\"*20"
   ]
  },
  {
   "cell_type": "code",
   "execution_count": 7,
   "metadata": {
    "collapsed": false
   },
   "outputs": [],
   "source": [
    "def pool_layer():\n",
    "    def _make_layer(input):\n",
    "        return tf.nn.max_pool(input, ksize=[1, 2, 2, 1], strides=[1, 2, 2, 1], padding='SAME')\n",
    "    return _make_layer\n",
    "\n",
    "def add_layer(input_image, layers, func):\n",
    "    if not layers:\n",
    "        new = func(input_image)\n",
    "    else:\n",
    "        new = func(layers[-1])\n",
    "    layer.append(new)"
   ]
  },
  {
   "cell_type": "code",
   "execution_count": 8,
   "metadata": {
    "collapsed": true
   },
   "outputs": [],
   "source": [
    "data_path = './'\n",
    "\n",
    "layers = [\n",
    "    'conv1_1', 'relu1_1', 'conv1_2', 'relu1_2', 'pool1',\n",
    "    \n",
    "    'conv2_1', 'relu2_1', 'conv2_2', 'relu2_2', 'pool2',\n",
    "    \n",
    "    'conv3_1', 'relu3_1', 'conv3_2', 'relu3_2', 'conv3_3',\n",
    "    'relu3_3', 'conv3_4', 'relu3_4', 'pool3',\n",
    "    \n",
    "    'conv4_1', 'relu4_1', 'conv4_2', 'relu4_2', 'conv4_3',\n",
    "    'relu4_3', 'conv4_4', 'relu4_4', 'pool4',\n",
    "\n",
    "    'conv5_1', 'relu5_1', 'conv5_2', 'relu5_2', 'conv5_3',\n",
    "    'relu5_3', 'conv5_4', 'relu5_4'\n",
    "]\n",
    "\n",
    "data = sio.loadmat(data_path)"
   ]
  },
  {
   "cell_type": "code",
   "execution_count": null,
   "metadata": {
    "collapsed": true
   },
   "outputs": [],
   "source": []
  }
 ],
 "metadata": {
  "kernelspec": {
   "display_name": "Python 2",
   "language": "python",
   "name": "python2"
  },
  "language_info": {
   "codemirror_mode": {
    "name": "ipython",
    "version": 2
   },
   "file_extension": ".py",
   "mimetype": "text/x-python",
   "name": "python",
   "nbconvert_exporter": "python",
   "pygments_lexer": "ipython2",
   "version": "2.7.10"
  }
 },
 "nbformat": 4,
 "nbformat_minor": 0
}
