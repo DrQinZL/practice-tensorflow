{
 "cells": [
  {
   "cell_type": "code",
   "execution_count": 33,
   "metadata": {
    "collapsed": true
   },
   "outputs": [],
   "source": [
    "%matplotlib inline\n",
    "\n",
    "import tensorflow as tf\n",
    "import numpy as np\n",
    "\n",
    "import os\n",
    "import sys\n",
    "\n",
    "sess = tf.InteractiveSession()"
   ]
  },
  {
   "cell_type": "code",
   "execution_count": 39,
   "metadata": {
    "collapsed": true
   },
   "outputs": [],
   "source": [
    "# VGG Model\n",
    "\n",
    "def conv_layer(weights, bias):\n",
    "    def _make_layer(input):\n",
    "        conv = tf.nn.conv2d(input, tf.constant(weights), strides=[1, 1, 1, 1],\n",
    "                            padding='SAME')\n",
    "        return tf.nn.bias_add(conv, bias)\n",
    "    return _make_layer"
   ]
  },
  {
   "cell_type": "code",
   "execution_count": 38,
   "metadata": {
    "collapsed": false,
    "scrolled": true
   },
   "outputs": [
    {
     "name": "stdout",
     "output_type": "stream",
     "text": [
      "[[[[ 4.]\n",
      "   [ 4.]\n",
      "   [ 2.]]\n",
      "\n",
      "  [[ 4.]\n",
      "   [ 4.]\n",
      "   [ 2.]]\n",
      "\n",
      "  [[ 2.]\n",
      "   [ 2.]\n",
      "   [ 1.]]]]\n"
     ]
    }
   ],
   "source": [
    "x_data = np.ones([3., 3.]).astype(\"float32\")\n",
    "x_data = np.reshape(x_data, [1, 3, 3, 1])\n",
    "\n",
    "w = np.ones([2,2])\n",
    "w = tf.cast(tf.reshape(w, [2, 2, 1, 1]), \"float\")\n",
    "\n",
    "print tf.nn.conv2d(x_data, w, [1, 1, 1, 1], 'SAME').eval()"
   ]
  },
  {
   "cell_type": "code",
   "execution_count": 17,
   "metadata": {
    "collapsed": false
   },
   "outputs": [
    {
     "data": {
      "text/plain": [
       "<tensorflow.python.framework.ops.Tensor at 0x7fc208d50b90>"
      ]
     },
     "execution_count": 17,
     "metadata": {},
     "output_type": "execute_result"
    }
   ],
   "source": [
    "x_data = np.ones([3., 3.]).astype(\"float32\")\n",
    "print x_data\n",
    "print \"=\"*20\n",
    "x_data = np.reshape(x_data, [1, 3, 3, 1])\n",
    "\n",
    "w = np.ones([2,2])\n",
    "print w\n",
    "print \"=\"*20\n",
    "w = tf.cast(tf.reshape(w, [2, 2, 1, 1]), \"float\")\n",
    "# print w.eval()\n",
    "\n",
    "print tf.nn.conv2d(x_data, w, [1, 1, 1, 1], 'SAME').eval()\n",
    "print \"=\"*20"
   ]
  },
  {
   "cell_type": "code",
   "execution_count": null,
   "metadata": {
    "collapsed": true
   },
   "outputs": [],
   "source": []
  }
 ],
 "metadata": {
  "kernelspec": {
   "display_name": "Python 2",
   "language": "python",
   "name": "python2"
  },
  "language_info": {
   "codemirror_mode": {
    "name": "ipython",
    "version": 2
   },
   "file_extension": ".py",
   "mimetype": "text/x-python",
   "name": "python",
   "nbconvert_exporter": "python",
   "pygments_lexer": "ipython2",
   "version": "2.7.6"
  }
 },
 "nbformat": 4,
 "nbformat_minor": 0
}
