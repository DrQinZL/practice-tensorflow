{
 "cells": [
  {
   "cell_type": "code",
   "execution_count": 3,
   "metadata": {
    "collapsed": false
   },
   "outputs": [
    {
     "name": "stderr",
     "output_type": "stream",
     "text": [
      "Exception AssertionError: AssertionError() in <bound method InteractiveSession.__del__ of <tensorflow.python.client.session.InteractiveSession object at 0x7f71d1b62450>> ignored\n"
     ]
    }
   ],
   "source": [
    "%matplotlib inline\n",
    "\n",
    "import tensorflow as tf\n",
    "import numpy as np\n",
    "import matplotlib.pyplot as plt\n",
    "\n",
    "sess = tf.InteractiveSession()"
   ]
  },
  {
   "cell_type": "markdown",
   "metadata": {},
   "source": [
    "# Linear Regression"
   ]
  },
  {
   "cell_type": "code",
   "execution_count": 4,
   "metadata": {
    "collapsed": false
   },
   "outputs": [
    {
     "data": {
      "text/plain": [
       "[<matplotlib.lines.Line2D at 0x7f71b452a950>]"
      ]
     },
     "execution_count": 4,
     "metadata": {},
     "output_type": "execute_result"
    },
    {
     "data": {
      "image/png": "[encoded data removed]",
      "text/plain": [
       "<matplotlib.figure.Figure at 0x7f71b46ac290>"
      ]
     },
     "metadata": {},
     "output_type": "display_data"
    }
   ],
   "source": [
    "train_x = np.linspace(0, 100, 20)\n",
    "train_y = train_x * 3.0 + np.random.rand(20)*50\n",
    "\n",
    "plt.plot(train_x, train_y, 'ro', label='true_y')"
   ]
  },
  {
   "cell_type": "code",
   "execution_count": 5,
   "metadata": {
    "collapsed": false
   },
   "outputs": [
    {
     "data": {
      "text/plain": [
       "array([   0.        ,    5.26315789,   10.52631579,   15.78947368,\n",
       "         21.05263158,   26.31578947,   31.57894737,   36.84210526,\n",
       "         42.10526316,   47.36842105,   52.63157895,   57.89473684,\n",
       "         63.15789474,   68.42105263,   73.68421053,   78.94736842,\n",
       "         84.21052632,   89.47368421,   94.73684211,  100.        ])"
      ]
     },
     "execution_count": 5,
     "metadata": {},
     "output_type": "execute_result"
    }
   ],
   "source": [
    "train_x\n"
   ]
  },
  {
   "cell_type": "code",
   "execution_count": 7,
   "metadata": {
    "collapsed": true
   },
   "outputs": [],
   "source": [
    "x = tf.placeholder(\"float\")\n",
    "y = tf.placeholder(\"float\")\n",
    "\n",
    "w = tf.Variable(1.0)\n",
    "b = tf.Variable(3.0)\n",
    "\n",
    "y_ = tf.add(tf.mul(x, w), b)\n",
    "\n",
    "cost = tf.reduce_sum(tf.pow(y_-y,2))/(train_x.shape[0])\n",
    "optimizer = tf.train.GradientDescentOptimizer(0.01).minimize(cost)"
   ]
  },
  {
   "cell_type": "code",
   "execution_count": 9,
   "metadata": {
    "collapsed": false
   },
   "outputs": [
    {
     "data": {
      "text/plain": [
       "4.0"
      ]
     },
     "execution_count": 9,
     "metadata": {},
     "output_type": "execute_result"
    }
   ],
   "source": [
    "\n",
    "sess = tf.InteractiveSession()\n",
    "\n",
    "init = tf.initialize_all_variables()\n",
    "sess.run(init)\n",
    "\n",
    "y_.eval({x:1})"
   ]
  },
  {
   "cell_type": "code",
   "execution_count": 58,
   "metadata": {
    "collapsed": false,
    "scrolled": true
   },
   "outputs": [
    {
     "name": "stdout",
     "output_type": "stream",
     "text": [
      "w\tb\tloss\n",
      "0.1378\t0.0573\t38474.6953 (best)\n",
      "4.1821\t3.7273\t2241.8652 (best)\n",
      "3.9366\t6.2886\t1287.7838 (best)\n",
      "3.5014\t8.5726\t310.6677 (best)\n",
      "3.0947\t10.6444\t400.3207\n",
      "2.7248\t12.5256\t1325.8958\n",
      "2.3889\t14.2338\t2863.1807\n",
      "2.0839\t15.7850\t4833.6558\n",
      "1.8069\t17.1936\t7096.7002\n",
      "1.5553\t18.4726\t9542.3340\n"
     ]
    },
    {
     "name": "stderr",
     "output_type": "stream",
     "text": [
      "Exception AssertionError: AssertionError() in <bound method InteractiveSession.__del__ of <tensorflow.python.client.session.InteractiveSession object at 0x115e6b5d0>> ignored\n"
     ]
    }
   ],
   "source": [
    "# feed dict 설명하기\n",
    "\n",
    "sess = tf.InteractiveSession()\n",
    "\n",
    "init = tf.initialize_all_variables()\n",
    "sess.run(init)\n",
    "\n",
    "print \"w\\tb\\tloss\"\n",
    "\n",
    "best_loss = 9999999\n",
    "best = False\n",
    "\n",
    "for epoch in range(1000):\n",
    "    for batch_x, batch_y in zip(train_x, train_y)[:2]:\n",
    "        sess.run(optimizer, feed_dict={x:batch_x, y:batch_y})\n",
    "\n",
    "    if epoch % 100 == 0:\n",
    "        cur_loss = cost.eval({x:train_x, y:train_y})\n",
    "        \n",
    "        if cur_loss < best_loss:\n",
    "            best_w, best_b = w.eval(), b.eval()\n",
    "            best_loss = cur_loss\n",
    "            best = True\n",
    "        \n",
    "        if best:\n",
    "            print \"%.4f\\t%.4f\\t%.4f (best)\" % (w.eval(), b.eval(), cur_loss)\n",
    "        else:\n",
    "            print \"%.4f\\t%.4f\\t%.4f\" % (w.eval(), b.eval(), cur_loss)\n",
    "            \n",
    "        best = False"
   ]
  },
  {
   "cell_type": "code",
   "execution_count": 59,
   "metadata": {
    "collapsed": false
   },
   "outputs": [
    {
     "data": {
      "image/png": "[encoded data removed]",
      "text/plain": [
       "<matplotlib.figure.Figure at 0x115f2c750>"
      ]
     },
     "metadata": {},
     "output_type": "display_data"
    }
   ],
   "source": [
    "fig = plt.figure(figsize=(10, 10), dpi=80, facecolor='w', edgecolor='k')\n",
    "\n",
    "plt.plot(train_x, train_y, 'ro', label='true_y')\n",
    "plt.plot(train_x, sess.run(w) * train_x + sess.run(b), label='last_pred_y')\n",
    "plt.plot(train_x, best_w * train_x + best_b, label='best_pred_y')\n",
    "plt.legend(loc='lower right')\n",
    "plt.show()"
   ]
  },
  {
   "cell_type": "markdown",
   "metadata": {},
   "source": [
    "# Nearest Neighbors"
   ]
  },
  {
   "cell_type": "code",
   "execution_count": null,
   "metadata": {
    "collapsed": true
   },
   "outputs": [],
   "source": []
  },
  {
   "cell_type": "markdown",
   "metadata": {},
   "source": [
    "# Practice for softmax argmax ..."
   ]
  },
  {
   "cell_type": "code",
   "execution_count": 60,
   "metadata": {
    "collapsed": false
   },
   "outputs": [
    {
     "name": "stdout",
     "output_type": "stream",
     "text": [
      "[[ 0.20603191  0.56005279  0.02788339  0.20603191]\n",
      " [ 0.22451524  0.61029569  0.08259454  0.08259454]\n",
      " [ 0.47536689  0.1748777   0.1748777   0.1748777 ]]\n"
     ]
    }
   ],
   "source": [
    "x = tf.Variable(np.array([[1., 2., -1., 1.], [1., 2., 0., 0.], [1., 0., 0., 0.]]), \"float32\")\n",
    "y_ = tf.nn.softmax(x)\n",
    "\n",
    "init = tf.initialize_all_variables()\n",
    "sess.run(init)\n",
    "\n",
    "print y_.eval()"
   ]
  },
  {
   "cell_type": "code",
   "execution_count": 61,
   "metadata": {
    "collapsed": false
   },
   "outputs": [
    {
     "name": "stdout",
     "output_type": "stream",
     "text": [
      "reduce_sum : 6.0\n",
      "reduce_mean : 1.5\n",
      "column wise : [1 0 0]\n",
      "row wise : [2 1]\n"
     ]
    }
   ],
   "source": [
    "x = [[1., 1., 2., 2.]]\n",
    "\n",
    "print \"reduce_sum :\", tf.reduce_sum(x).eval()\n",
    "print \"reduce_mean :\",tf.reduce_mean(x).eval()\n",
    "\n",
    "print \"column wise :\", tf.argmax(np.array([[0, 0, 1],[1, 0, 0]]), 0).eval()\n",
    "print \"row wise :\", tf.argmax(np.array([[0, 0, 1],[0, 1, 0]]), 1).eval()"
   ]
  },
  {
   "cell_type": "code",
   "execution_count": 62,
   "metadata": {
    "collapsed": false
   },
   "outputs": [
    {
     "name": "stdout",
     "output_type": "stream",
     "text": [
      "1.60944\n",
      "1.3119\n",
      "[ 1.31190157]\n",
      "0.510826\n",
      "0.911901\n",
      "[ 0.91190147]\n"
     ]
    }
   ],
   "source": [
    "# Important!!\n",
    "\n",
    "y_ = [[0.4, 0.6, 0.2]]\n",
    "y = [[0., 0., 1.]]\n",
    "\n",
    "y = tf.Variable(y, \"float64\")\n",
    "y_ = tf.Variable(y_, \"float64\")\n",
    "\n",
    "init = tf.initialize_all_variables()\n",
    "sess.run(init)\n",
    "\n",
    "print -tf.reduce_sum(y * tf.log(y_)).eval()\n",
    "print -tf.reduce_sum(y * tf.log(tf.nn.softmax(y_))).eval()\n",
    "print tf.nn.softmax_cross_entropy_with_logits(y_, y).eval()\n",
    "\n",
    "# Important!!\n",
    "\n",
    "y_ = [[0.4, 0.6, 0.2]]\n",
    "y = [[0., 1., 0.]]\n",
    "\n",
    "y = tf.Variable(y, \"float64\")\n",
    "y_ = tf.Variable(y_, \"float64\")\n",
    "\n",
    "init = tf.initialize_all_variables()\n",
    "sess.run(init)\n",
    "\n",
    "print -tf.reduce_sum(y * tf.log(y_)).eval()\n",
    "print -tf.reduce_sum(y * tf.log(tf.nn.softmax(y_))).eval()\n",
    "print tf.nn.softmax_cross_entropy_with_logits(y_, y).eval()"
   ]
  },
  {
   "cell_type": "code",
   "execution_count": 23,
   "metadata": {
    "collapsed": false
   },
   "outputs": [
    {
     "name": "stdout",
     "output_type": "stream",
     "text": [
      "[[1 4]]\n",
      "[[1 1]]\n"
     ]
    }
   ],
   "source": [
    "x = tf.Variable([[1,2]])\n",
    "y = tf.Variable([[1,2]])\n",
    "\n",
    "init = tf.initialize_all_variables()\n",
    "sess.run(init)\n",
    "\n",
    "tmp = x * y\n",
    "print tmp.eval()\n",
    "\n",
    "print tf.ones_like(x).eval()"
   ]
  },
  {
   "cell_type": "code",
   "execution_count": 4,
   "metadata": {
    "collapsed": false
   },
   "outputs": [
    {
     "name": "stdout",
     "output_type": "stream",
     "text": [
      "[[ 1.  1.  1.]]\n",
      "[[ 0.69314718  0.7132616   0.69314718]]\n",
      "[[ 0.69314718  0.7132616   0.69314718]]\n"
     ]
    }
   ],
   "source": [
    "# Sigmoid cross entropy\n",
    "\n",
    "y_ = [[0.4, 0.6, 0.2]]\n",
    "y = [[0., 1., 0.]]\n",
    "\n",
    "y = tf.Variable(y, \"float64\")\n",
    "y_ = tf.Variable(y_, \"float64\")\n",
    "\n",
    "init = tf.initialize_all_variables()\n",
    "sess.run(init)\n",
    "\n",
    "print tf.maximum(y, 1).eval()\n",
    "\n",
    "# x - x * z + log(1 + exp(-x))\n",
    "# max(x, 0) - x * z + log(1 + exp(-abs(x)))\n",
    "\n",
    "tmp = tf.maximum(y, 0) - y * y_ + tf.log(tf.ones_like(y) + tf.exp(-y))\n",
    "print tmp.eval()\n",
    "print tf.nn.sigmoid_cross_entropy_with_logits(y, y_).eval()"
   ]
  },
  {
   "cell_type": "code",
   "execution_count": 63,
   "metadata": {
    "collapsed": false
   },
   "outputs": [
    {
     "name": "stdout",
     "output_type": "stream",
     "text": [
      "Extracting /tmp/data/train-images-idx3-ubyte.gz\n",
      "Extracting /tmp/data/train-labels-idx1-ubyte.gz\n",
      "Extracting /tmp/data/t10k-images-idx3-ubyte.gz\n",
      "Extracting /tmp/data/t10k-labels-idx1-ubyte.gz\n"
     ]
    }
   ],
   "source": [
    "import input_data\n",
    "mnist = input_data.read_data_sets(\"/tmp/data/\", one_hot=True)"
   ]
  },
  {
   "cell_type": "markdown",
   "metadata": {},
   "source": [
    "# Logistic regression and Softmax classifier"
   ]
  },
  {
   "cell_type": "code",
   "execution_count": 64,
   "metadata": {
    "collapsed": false
   },
   "outputs": [],
   "source": [
    "x = tf.placeholder(\"float\", [None, 784]) # 28 x 28\n",
    "y = tf.placeholder(\"float\", [None, 10])\n",
    "\n",
    "w = tf.Variable(tf.zeros([784, 10]))\n",
    "b = tf.Variable(tf.zeros([10]))\n",
    "\n",
    "y_ = tf.matmul(x, w) + b\n",
    "\n",
    "# cross entropy\n",
    "cost1 = -tf.reduce_sum(y * tf.log(tf.nn.softmax(y_)))\n",
    "\n",
    "# softmax cross entropy\n",
    "# Measures the probability error in discrete classification tasks\n",
    "# in which the classes are mutually exclusive (each entry is in exactly one class).\n",
    "# For example, each CIFAR-10 image is labeled with one and only one label:\n",
    "# an image can be a dog or a truck, but not both.\n",
    "cost2 = tf.reduce_sum(tf.nn.softmax_cross_entropy_with_logits(y_, y))\n",
    "\n",
    "# 이건 주로 multilabel classification에 사용\n",
    "# Measures the probability error in discrete classification tasks\n",
    "# in which each class is independent and not mutually exclusive.\n",
    "# For instance, one could perform multilabel classification\n",
    "# where a picture can contain both an elephant and a dog at the same time.\n",
    "\n",
    "# `x = logits`, `z = targets`\n",
    "# cost = x - x * z + log(1 + exp(-x))\n",
    "# actual_cost = max(x, 0) - x * z + log(1 + exp(-abs(x))) : ensure stability and avoid overflow\n",
    "cost3 = tf.reduce_sum(tf.nn.sigmoid_cross_entropy_with_logits(y_, y))\n",
    "\n",
    "costs = []\n",
    "costs.append(cost1)\n",
    "costs.append(cost2)\n",
    "costs.append(cost3)\n",
    "\n",
    "optimizers = []\n",
    "optimizers.append(tf.train.GradientDescentOptimizer(0.01).minimize(cost1))\n",
    "optimizers.append(tf.train.GradientDescentOptimizer(0.01).minimize(cost2))\n",
    "optimizers.append(tf.train.GradientDescentOptimizer(0.01).minimize(cost3))"
   ]
  },
  {
   "cell_type": "code",
   "execution_count": 65,
   "metadata": {
    "collapsed": false
   },
   "outputs": [
    {
     "name": "stdout",
     "output_type": "stream",
     "text": [
      " [*] Training start\n",
      "Epoch: 0001 cost= 29.860479714\n",
      "Epoch: 0004 cost= 20.507172802\n",
      "Epoch: 0007 cost= 19.761128715\n",
      "Epoch: 0010 cost= 19.179987183\n",
      " [*] Finished training : 0.920400\n",
      "\n",
      " [*] Training start\n",
      "Epoch: 0001 cost= 30.687084276\n",
      "Epoch: 0004 cost= 20.483635046\n",
      "Epoch: 0007 cost= 19.664463752\n",
      "Epoch: 0010 cost= 19.120669614\n",
      " [*] Finished training : 0.918600\n",
      "\n",
      " [*] Training start\n",
      "Epoch: 0001 cost= 89.729611012\n",
      "Epoch: 0004 cost= 56.728791351\n",
      "Epoch: 0007 cost= 55.062640131\n",
      "Epoch: 0010 cost= 54.285323431\n",
      " [*] Finished training : 0.913200\n",
      "\n"
     ]
    }
   ],
   "source": [
    "training_epochs = 10\n",
    "batch_size = 100\n",
    "\n",
    "for cost, optimizer in zip(costs, optimizers):\n",
    "    init = tf.initialize_all_variables()\n",
    "    sess.run(init)\n",
    "\n",
    "    print \" [*] Training start\"\n",
    "    \n",
    "    for epoch in range(training_epochs):\n",
    "        total_batch = int(mnist.train.num_examples/batch_size)\n",
    "        avg_loss = 0.\n",
    "        \n",
    "        for batch in range(total_batch):\n",
    "            batch_xs, batch_ys = mnist.train.next_batch(batch_size)\n",
    "            sess.run(optimizer, feed_dict={x: batch_xs, y: batch_ys})\n",
    "            \n",
    "            avg_loss += cost.eval({x: batch_xs, y: batch_ys})/total_batch\n",
    "        \n",
    "        if epoch % 3 == 0:\n",
    "            print \"Epoch:\", '%04d' % (epoch+1), \"cost=\", \"{:.9f}\".format(avg_loss)\n",
    "        \n",
    "    correct_prediction = tf.equal(tf.argmax(y_, 1), tf.argmax(y, 1))\n",
    "    accuracy = tf.reduce_mean(tf.cast(correct_prediction, \"float\"))\n",
    "    \n",
    "    print \" [*] Finished training : %.6f\\n\" % accuracy.eval({x: mnist.test.images, y: mnist.test.labels})"
   ]
  },
  {
   "cell_type": "markdown",
   "metadata": {},
   "source": [
    "# Neural Network"
   ]
  },
  {
   "cell_type": "code",
   "execution_count": 66,
   "metadata": {
    "collapsed": true
   },
   "outputs": [],
   "source": [
    "x = tf.placeholder(\"float\", [None, 784])\n",
    "y = tf.placeholder(\"float\", [None, 10])\n",
    "\n",
    "w_h = tf.Variable(tf.random_normal([784, 625], stddev=0.01))\n",
    "w_o = tf.Variable(tf.random_normal([625, 10], stddev=0.01))\n",
    "\n",
    "out_h = tf.nn.sigmoid(tf.matmul(x, w_h))\n",
    "y_ = tf.matmul(out_h, w_o)\n",
    "\n",
    "cost = tf.reduce_mean(tf.nn.softmax_cross_entropy_with_logits(y_, y))\n",
    "train = tf.train.GradientDescentOptimizer(0.05).minimize(cost)\n",
    "\n",
    "pred_op = tf.argmax(y_, 1)"
   ]
  },
  {
   "cell_type": "code",
   "execution_count": 67,
   "metadata": {
    "collapsed": false
   },
   "outputs": [
    {
     "name": "stdout",
     "output_type": "stream",
     "text": [
      "Epoch: 0001 cost= 1.810535145\n",
      "Epoch: 0004 cost= 0.418705889\n",
      "Epoch: 0007 cost= 0.336711687\n",
      "Epoch: 0010 cost= 0.308029606\n",
      "0.9138\n"
     ]
    }
   ],
   "source": [
    "training_epochs = 10\n",
    "batch_size = 100\n",
    "\n",
    "init = tf.initialize_all_variables()\n",
    "sess.run(init)\n",
    "\n",
    "for epoch in range(10):\n",
    "    total_batch = int(mnist.train.num_examples/batch_size)\n",
    "    avg_loss = 0.\n",
    "\n",
    "    for batch in range(total_batch): \n",
    "        batch_xs, batch_ys = mnist.train.next_batch(batch_size)\n",
    "        sess.run(train, feed_dict={x: batch_xs, y: batch_ys})\n",
    "        \n",
    "        avg_loss += cost.eval({x: batch_xs, y: batch_ys})/total_batch\n",
    "        \n",
    "    if epoch % 3 == 0:\n",
    "        print \"Epoch:\", '%04d' % (epoch+1), \"cost=\", \"{:.9f}\".format(avg_loss)\n",
    "\n",
    "correct_prediction = tf.equal(tf.argmax(y_, 1), tf.argmax(y, 1))\n",
    "accuracy = tf.reduce_mean(tf.cast(correct_prediction, \"float\"))\n",
    "\n",
    "print accuracy.eval({x: mnist.test.images, y: mnist.test.labels})"
   ]
  },
  {
   "cell_type": "code",
   "execution_count": 68,
   "metadata": {
    "collapsed": true
   },
   "outputs": [],
   "source": [
    "x = tf.placeholder(\"float\", [None, 784])\n",
    "y = tf.placeholder(\"float\", [None, 10])\n",
    "\n",
    "w_h1 = tf.Variable(tf.random_normal([784, 625], stddev=0.01))\n",
    "w_h2 = tf.Variable(tf.random_normal([625, 128], stddev=0.01))\n",
    "w_o = tf.Variable(tf.random_normal([128, 10], stddev=0.01))\n",
    "\n",
    "out_h1 = tf.nn.sigmoid(tf.matmul(x, w_h1))\n",
    "out_h2 = tf.nn.sigmoid(tf.matmul(out_h1, w_h2))\n",
    "y_ = tf.matmul(out_h2, w_o)\n",
    "\n",
    "cost = tf.reduce_mean(tf.nn.softmax_cross_entropy_with_logits(y_, y))\n",
    "train = tf.train.GradientDescentOptimizer(0.05).minimize(cost)\n",
    "\n",
    "pred_op = tf.argmax(y_, 1)"
   ]
  },
  {
   "cell_type": "code",
   "execution_count": 69,
   "metadata": {
    "collapsed": false
   },
   "outputs": [
    {
     "name": "stdout",
     "output_type": "stream",
     "text": [
      "Epoch: 0001 cost= 2.291072860\n",
      "Epoch: 0004 cost= 2.292162473\n",
      "Epoch: 0007 cost= 2.087677311\n",
      "Epoch: 0010 cost= 1.135891468\n",
      "0.6633\n"
     ]
    }
   ],
   "source": [
    "init = tf.initialize_all_variables()\n",
    "sess.run(init)\n",
    "\n",
    "for epoch in range(10):\n",
    "    total_batch = int(mnist.train.num_examples/batch_size)\n",
    "    avg_loss = 0.\n",
    "\n",
    "    for batch in range(total_batch): \n",
    "        batch_xs, batch_ys = mnist.train.next_batch(batch_size)\n",
    "        sess.run(train, feed_dict={x: batch_xs, y: batch_ys})\n",
    "        \n",
    "        avg_loss += cost.eval({x: batch_xs, y: batch_ys})/total_batch\n",
    "        \n",
    "    if epoch % 3 == 0:\n",
    "        print \"Epoch:\", '%04d' % (epoch+1), \"cost=\", \"{:.9f}\".format(avg_loss)\n",
    "\n",
    "correct_prediction = tf.equal(tf.argmax(y_, 1), tf.argmax(y, 1))\n",
    "accuracy = tf.reduce_mean(tf.cast(correct_prediction, \"float\"))\n",
    "\n",
    "print accuracy.eval({x: mnist.test.images, y: mnist.test.labels})"
   ]
  },
  {
   "cell_type": "code",
   "execution_count": 70,
   "metadata": {
    "collapsed": false
   },
   "outputs": [
    {
     "name": "stdout",
     "output_type": "stream",
     "text": [
      "Epoch: 0001 cost= 2.291446992\n",
      "Epoch: 0004 cost= 2.291896371\n",
      "Epoch: 0007 cost= 2.110376457\n",
      "Epoch: 0010 cost= 1.023630695\n",
      "Epoch: 0013 cost= 0.699558761\n",
      "Epoch: 0016 cost= 0.565286022\n",
      "Epoch: 0019 cost= 0.480752677\n",
      "Epoch: 0022 cost= 0.419639268\n",
      "Epoch: 0025 cost= 0.374518869\n",
      "Epoch: 0028 cost= 0.347565093\n",
      "0.9038\n"
     ]
    }
   ],
   "source": [
    "init = tf.initialize_all_variables()\n",
    "sess.run(init)\n",
    "\n",
    "for epoch in range(30):\n",
    "    total_batch = int(mnist.train.num_examples/batch_size)\n",
    "    avg_loss = 0.\n",
    "\n",
    "    for batch in range(total_batch): \n",
    "        batch_xs, batch_ys = mnist.train.next_batch(batch_size)\n",
    "        sess.run(train, feed_dict={x: batch_xs, y: batch_ys})\n",
    "        \n",
    "        avg_loss += cost.eval({x: batch_xs, y: batch_ys})/total_batch\n",
    "        \n",
    "    if epoch % 3 == 0:\n",
    "        print \"Epoch:\", '%04d' % (epoch+1), \"cost=\", \"{:.9f}\".format(avg_loss)\n",
    "\n",
    "correct_prediction = tf.equal(tf.argmax(y_, 1), tf.argmax(y, 1))\n",
    "accuracy = tf.reduce_mean(tf.cast(correct_prediction, \"float\"))\n",
    "\n",
    "print accuracy.eval({x: mnist.test.images, y: mnist.test.labels})"
   ]
  },
  {
   "cell_type": "markdown",
   "metadata": {},
   "source": [
    "# Convolutional Neural Network"
   ]
  },
  {
   "cell_type": "code",
   "execution_count": 100,
   "metadata": {
    "collapsed": false
   },
   "outputs": [
    {
     "name": "stdout",
     "output_type": "stream",
     "text": [
      "[[ 1.  1.  1.]\n",
      " [ 1.  1.  1.]\n",
      " [ 1.  1.  1.]]\n",
      "====================\n",
      "[[ 1.  1.]\n",
      " [ 1.  1.]]\n",
      "====================\n",
      "[[[[ 4.]\n",
      "   [ 4.]\n",
      "   [ 2.]]\n",
      "\n",
      "  [[ 4.]\n",
      "   [ 4.]\n",
      "   [ 2.]]\n",
      "\n",
      "  [[ 2.]\n",
      "   [ 2.]\n",
      "   [ 1.]]]]\n",
      "====================\n",
      "[[[[ 4.]\n",
      "   [ 4.]\n",
      "   [ 2.]]\n",
      "\n",
      "  [[ 4.]\n",
      "   [ 4.]\n",
      "   [ 2.]]\n",
      "\n",
      "  [[ 2.]\n",
      "   [ 2.]\n",
      "   [ 1.]]]]\n",
      "====================\n",
      "[[[[ 4.]\n",
      "   [ 2.]]\n",
      "\n",
      "  [[ 2.]\n",
      "   [ 1.]]]]\n"
     ]
    }
   ],
   "source": [
    "x_data = np.ones([3., 3.]).astype(\"float32\")\n",
    "print x_data\n",
    "print \"=\"*20\n",
    "x_data = np.reshape(x_data, [1, 3, 3, 1])\n",
    "\n",
    "w = np.ones([2,2])\n",
    "print w\n",
    "print \"=\"*20\n",
    "w = tf.cast(tf.reshape(w, [2, 2, 1, 1]), \"float\")\n",
    "# print w.eval()\n",
    "\n",
    "print tf.nn.conv2d(x_data, w, [1, 1, 1, 1], 'SAME').eval()\n",
    "print \"=\"*20\n",
    "\n",
    "l1 = tf.nn.relu(tf.nn.conv2d(x_data, w, [1, 1, 1, 1], 'SAME'))\n",
    "print l1.eval()\n",
    "print \"=\"*20\n",
    "\n",
    "l2 = tf.nn.max_pool(l1, ksize=[1, 2, 2, 1], strides=[1, 2, 2, 1], padding='SAME', name='l1_pool')\n",
    "print l2.eval()"
   ]
  },
  {
   "cell_type": "code",
   "execution_count": 101,
   "metadata": {
    "collapsed": false
   },
   "outputs": [
    {
     "name": "stdout",
     "output_type": "stream",
     "text": [
      "[[[[ 8.]\n",
      "   [ 4.]]\n",
      "\n",
      "  [[ 0.]\n",
      "   [ 2.]]]]\n",
      "====================\n",
      "[[[[ 2.]\n",
      "   [ 0.]\n",
      "   [ 0.]]\n",
      "\n",
      "  [[ 0.]\n",
      "   [ 2.]\n",
      "   [ 2.]]\n",
      "\n",
      "  [[ 2.]\n",
      "   [ 0.]\n",
      "   [ 2.]]]]\n"
     ]
    }
   ],
   "source": [
    "# tf.nn.dropout\n",
    "# With probability keep_prob, outputs the input element scaled up by 1 / keep_prob,\n",
    "# otherwise outputs 0. The scaling is so that the expected sum is unchanged.\n",
    "\n",
    "l3 = tf.nn.dropout(l2, 0.5, name='l1')\n",
    "print l3.eval()\n",
    "print \"=\"*20\n",
    "\n",
    "x_pool = tf.nn.dropout(x_data, 0.5, name='l1')\n",
    "print x_pool.eval()"
   ]
  },
  {
   "cell_type": "code",
   "execution_count": 102,
   "metadata": {
    "collapsed": false
   },
   "outputs": [],
   "source": [
    "# reference : http://cs231n.github.io/convolutional-networks/\n",
    "\n",
    "x = tf.placeholder(\"float\", [None, 28*28])\n",
    "y = tf.placeholder(\"float\", [None, 10])\n",
    "\n",
    "# [batch, in_height, in_width, in_channels]\n",
    "x_3d = tf.reshape(x, [-1, 28, 28, 1])\n",
    "\n",
    "def init_weights(shape):\n",
    "    return tf.Variable(tf.random_normal(shape, stddev=0.01))\n",
    "\n",
    "# [filter_height, filter_width, in_channels, out_channels]\n",
    "w1 = init_weights([3, 3, 1, 32])\n",
    "w2 = init_weights([3, 3, 32, 64])\n",
    "w3 = init_weights([3, 3, 64, 128])\n",
    "w4 = init_weights([128 * 4 * 4, 625])\n",
    "w_o = init_weights([625, 10])\n",
    "\n",
    "p_keep_conv = 0.8\n",
    "p_keep_hidden = 0.5\n",
    "\n",
    "# Must have strides[0] = strides[3] = 1.\n",
    "# For the most common case of the same horizontal and vertices strides,\n",
    "# strides = [1, stride, stride, 1].\n",
    "\n",
    "# pad_along_height = ((out_height - 1) * strides[1] +\n",
    "#                     filter_height - in_height)\n",
    "# pad_along_width = ((out_width - 1) * strides[2] +\n",
    "#                    filter_width - in_width)\n",
    "# pad_top = pad_along_height / 2\n",
    "# pad_left = pad_along_width / 2\n",
    "l1a = tf.nn.relu(tf.nn.conv2d(x_3d, w1, [1, 1, 1, 1], 'SAME'), name='l1a')\n",
    "\n",
    "# for case of 'SAME'\n",
    "# out_height = ceil(float(in_height) / float(strides[1]))\n",
    "# out_width  = ceil(float(in_width) / float(stides[2]))\n",
    "\n",
    "# ksize : The size of the window for each dimension of the input tensor.\n",
    "# strides : \n",
    "l1 = tf.nn.max_pool(l1a, ksize=[1, 2, 2, 1], strides=[1, 2, 2, 1], padding='SAME', name='l1_pool')\n",
    "l1 = tf.nn.dropout(l1, p_keep_hidden, name='l1')\n",
    "\n",
    "# output : batch x 14 x 14 x 32\n",
    "\n",
    "l2a = tf.nn.relu(tf.nn.conv2d(l1, w2, [1, 1, 1, 1], 'SAME'))\n",
    "l2 = tf.nn.max_pool(l2a, ksize=[1, 2, 2, 1], strides=[1, 2, 2, 1], padding='SAME')\n",
    "l2 = tf.nn.dropout(l2, p_keep_hidden)\n",
    "\n",
    "# output : batch x 7 x 7 x 64\n",
    "\n",
    "l3a = tf.nn.relu(tf.nn.conv2d(l2, w3, [1, 1, 1, 1], 'SAME'))\n",
    "l3 = tf.nn.max_pool(l3a, ksize=[1, 2, 2, 1], strides=[1, 2, 2, 1], padding='SAME')\n",
    "\n",
    "# output : batch x 4 x 4 x 128\n",
    "\n",
    "l3 = tf.reshape(l3, [-1, w4.get_shape().as_list()[0]]) # = 128 * 4 * 4\n",
    "l3 = tf.nn.dropout(l3, p_keep_hidden)\n",
    "\n",
    "l4 = tf.nn.relu(tf.matmul(l3, w4))\n",
    "l4 = tf.nn.dropout(l4, p_keep_hidden)\n",
    "\n",
    "# output : batch x 625\n",
    "\n",
    "y_ = tf.matmul(l4, w_o)\n",
    "\n",
    "# output : batch x 10\n",
    "\n",
    "cost = tf.reduce_mean(tf.nn.softmax_cross_entropy_with_logits(y_, y))\n",
    "train = tf.train.GradientDescentOptimizer(0.05).minimize(cost)\n",
    "\n",
    "pred_op = tf.argmax(y_, 1)"
   ]
  },
  {
   "cell_type": "code",
   "execution_count": 99,
   "metadata": {
    "collapsed": false,
    "scrolled": true
   },
   "outputs": [
    {
     "name": "stdout",
     "output_type": "stream",
     "text": [
      "Epoch: 0001 cost= 2.302579639\n",
      "Epoch: 0004 cost= 2.302520615\n",
      "Epoch: 0007 cost= 2.225800073\n",
      "Epoch: 0010 cost= 0.231174564\n",
      "0.9308\n"
     ]
    }
   ],
   "source": [
    "init = tf.initialize_all_variables()\n",
    "sess.run(init)\n",
    "\n",
    "for epoch in range(10):\n",
    "    total_batch = int(mnist.train.num_examples/batch_size)\n",
    "    avg_loss = 0.\n",
    "\n",
    "    for batch in range(total_batch): \n",
    "        batch_xs, batch_ys = mnist.train.next_batch(batch_size)\n",
    "        sess.run(train, feed_dict={x: batch_xs, y: batch_ys})\n",
    "        \n",
    "        avg_loss += cost.eval({x: batch_xs, y: batch_ys})/total_batch\n",
    "        \n",
    "    if epoch % 3 == 0:\n",
    "        print \"Epoch:\", '%04d' % (epoch+1), \"cost=\", \"{:.9f}\".format(avg_loss)\n",
    "\n",
    "correct_prediction = tf.equal(tf.argmax(y_, 1), tf.argmax(y, 1))\n",
    "accuracy = tf.reduce_mean(tf.cast(correct_prediction, \"float\"))\n",
    "\n",
    "print accuracy.eval({x: mnist.test.images, y: mnist.test.labels})"
   ]
  },
  {
   "cell_type": "code",
   "execution_count": null,
   "metadata": {
    "collapsed": true
   },
   "outputs": [],
   "source": []
  }
 ],
 "metadata": {
  "kernelspec": {
   "display_name": "Python 2",
   "language": "python",
   "name": "python2"
  },
  "language_info": {
   "codemirror_mode": {
    "name": "ipython",
    "version": 2
   },
   "file_extension": ".py",
   "mimetype": "text/x-python",
   "name": "python",
   "nbconvert_exporter": "python",
   "pygments_lexer": "ipython2",
   "version": "2.7.6"
  }
 },
 "nbformat": 4,
 "nbformat_minor": 0
}
